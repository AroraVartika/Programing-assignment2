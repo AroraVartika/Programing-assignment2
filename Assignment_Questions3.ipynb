{
  "nbformat": 4,
  "nbformat_minor": 0,
  "metadata": {
    "colab": {
      "provenance": [],
      "authorship_tag": "ABX9TyNI6PB586j8yfhp1j7bHcUr",
      "include_colab_link": true
    },
    "kernelspec": {
      "name": "python3",
      "display_name": "Python 3"
    },
    "language_info": {
      "name": "python"
    }
  },
  "cells": [
    {
      "cell_type": "markdown",
      "metadata": {
        "id": "view-in-github",
        "colab_type": "text"
      },
      "source": [
        "<a href=\"https://colab.research.google.com/github/AroraVartika/Programing-assignment2/blob/main/Assignment_Questions3.ipynb\" target=\"_parent\"><img src=\"https://colab.research.google.com/assets/colab-badge.svg\" alt=\"Open In Colab\"/></a>"
      ]
    },
    {
      "cell_type": "markdown",
      "source": [
        "Question 1\n",
        "Given an integer array nums of length n and an integer target, find three integers\n",
        "in nums such that the sum is closest to the target.\n",
        "Return the sum of the three integers.\n",
        "\n",
        "You may assume that each input would have exactly one solution.\n",
        "\n",
        "Example 1:\n",
        "Input: nums = [-1,2,1,-4], target = 1\n",
        "Output: 2\n",
        "\n",
        "Explanation: The sum that is closest to the target is 2. (-1 + 2 + 1 = 2)."
      ],
      "metadata": {
        "id": "SbSAOIAvJveP"
      }
    },
    {
      "cell_type": "code",
      "source": [
        "def find_close_triplet(arr, n, x, count, sum, ind, ans, minm):\n",
        "    if ind == n:\n",
        "        if count == 3:\n",
        "            if abs(x - sum) < minm[0]:\n",
        "                minm[0] = abs(x - sum)\n",
        "                ans[0] = sum\n",
        "        return\n",
        " \n",
        "    find_close_triplet(arr, n, x, count + 1, sum + arr[ind], ind + 1, ans, minm)\n",
        " \n",
        "    find_close_triplet(arr, n, x, count, sum, ind + 1, ans, minm)\n",
        " \n",
        "if __name__ == \"__main__\":\n",
        "  arr = [-1, 2, 1, -4]\n",
        "  x = 1\n",
        "  n = len(arr)\n",
        "  minm = [float('inf')]\n",
        "  ans = [0]\n",
        "   \n",
        "  find_close_triplet(arr, n, x, 0, 0, 0, ans, minm)\n",
        "  print(ans[0])"
      ],
      "metadata": {
        "colab": {
          "base_uri": "https://localhost:8080/"
        },
        "id": "C4YN5y6aJv8U",
        "outputId": "6d33f8f5-6de0-4564-b955-310ef7cb7697"
      },
      "execution_count": null,
      "outputs": [
        {
          "output_type": "stream",
          "name": "stdout",
          "text": [
            "2\n"
          ]
        }
      ]
    },
    {
      "cell_type": "markdown",
      "source": [
        "Question 2\n",
        "Given an array nums of n integers, return an array of all the unique quadruplets\n",
        "[nums[a], nums[b], nums[c], nums[d]] such that:\n",
        "           ● 0 <= a, b, c, d < n\n",
        "           ● a, b, c, and d are distinct.\n",
        "           ● nums[a] + nums[b] + nums[c] + nums[d] == target\n",
        "\n",
        "You may return the answer in any order.\n",
        "\n",
        "Example 1:\n",
        "Input: nums = [1,0,-1,0,-2,2], target = 0\n",
        "Output: [[-2,-1,1,2],[-2,0,0,2],[-1,0,0,1]]"
      ],
      "metadata": {
        "id": "_3I-t5wHJwO1"
      }
    },
    {
      "cell_type": "code",
      "source": [
        "class Pair:\n",
        "    def __init__(self, x, y):\n",
        "        self.index1 = x\n",
        "        self.index2 = y\n",
        " \n",
        "def GetQuadruplets(nums, target):\n",
        "    map = {}\n",
        " \n",
        "    for i in range(len(nums) - 1):\n",
        "        for j in range(i + 1, len(nums)):\n",
        "            # Find the sum of pairs of elements\n",
        "            sum = nums[i] + nums[j]\n",
        " \n",
        "            # If the sum doesn't exist then update with the new pairs\n",
        "            if sum not in map:\n",
        "                map[sum] = [Pair(i, j)]\n",
        "            # Otherwise, add the new pair of indices to the current sum\n",
        "            else:\n",
        "                map[sum].append(Pair(i, j))\n",
        " \n",
        "    # Store all the Quadruplets\n",
        "    ans = set()\n",
        " \n",
        "    for i in range(len(nums) - 1):\n",
        "        for j in range(i + 1, len(nums)):\n",
        "            lookUp = target - (nums[i] + nums[j])\n",
        " \n",
        "            # If the sum with value (K - sum) exists\n",
        "            if lookUp in map:\n",
        "                # Get the pair of indices of sum\n",
        "                temp = map[lookUp]\n",
        " \n",
        "                for pair in temp:\n",
        "                    # Check if i, j, k and l are distinct or not\n",
        "                    if pair.index1 != i and pair.index1 != j and pair.index2 != i and pair.index2 != j:\n",
        "                        l1 = [nums[pair.index1], nums[pair.index2], nums[i], nums[j]]\n",
        "                         \n",
        "                        # Sort the list to avoid duplicacy\n",
        "                        l1.sort()\n",
        "                         \n",
        "                        # Update the set\n",
        "                        ans.add(tuple(l1))\n",
        " \n",
        "    # Print all the Quadruplets\n",
        "    print(*reversed(list(ans)), sep = '\\n')\n",
        " \n",
        "arr = [1, 0, -1, 0, -2, 2]\n",
        "K = 0\n",
        "GetQuadruplets(arr, K)"
      ],
      "metadata": {
        "colab": {
          "base_uri": "https://localhost:8080/"
        },
        "id": "QPQQ5fJEJw7z",
        "outputId": "dd53c788-7533-483c-e3eb-44a5e870be4b"
      },
      "execution_count": null,
      "outputs": [
        {
          "output_type": "stream",
          "name": "stdout",
          "text": [
            "(-2, 0, 0, 2)\n",
            "(-1, 0, 0, 1)\n",
            "(-2, -1, 1, 2)\n"
          ]
        }
      ]
    },
    {
      "cell_type": "markdown",
      "source": [
        "<aside>\n",
        "💡 **Question 3**\n",
        "A permutation of an array of integers is an arrangement of its members into a\n",
        "sequence or linear order.\n",
        "\n",
        "For example, for arr = [1,2,3], the following are all the permutations of arr:\n",
        "[1,2,3], [1,3,2], [2, 1, 3], [2, 3, 1], [3,1,2], [3,2,1].\n",
        "\n",
        "The next permutation of an array of integers is the next lexicographically greater\n",
        "permutation of its integer. More formally, if all the permutations of the array are\n",
        "sorted in one container according to their lexicographical order, then the next\n",
        "permutation of that array is the permutation that follows it in the sorted container.\n",
        "\n",
        "If such an arrangement is not possible, the array must be rearranged as the\n",
        "lowest possible order (i.e., sorted in ascending order).\n",
        "\n",
        "● For example, the next permutation of arr = [1,2,3] is [1,3,2].\n",
        "● Similarly, the next permutation of arr = [2,3,1] is [3,1,2].\n",
        "● While the next permutation of arr = [3,2,1] is [1,2,3] because [3,2,1] does not\n",
        "have a lexicographical larger rearrangement.\n",
        "\n",
        "Given an array of integers nums, find the next permutation of nums.\n",
        "The replacement must be in place and use only constant extra memory.\n",
        "\n",
        "**Example 1:**\n",
        "Input: nums = [1,2,3]\n",
        "Output: [1,3,2]\n",
        "\n",
        "</aside>"
      ],
      "metadata": {
        "id": "4SpeqsxIJxPU"
      }
    },
    {
      "cell_type": "code",
      "source": [
        "def swapPositions(list, pos1, pos2):\n",
        "    list[pos1], list[pos2] = list[pos2], list[pos1]\n",
        "    return list\n",
        " \n",
        "# Function to find the next permutation\n",
        "def nextPermutation(arr):\n",
        "    n = len(arr)\n",
        "    i = 0\n",
        "    j = 0\n",
        "     \n",
        "  \n",
        "    for i in range(n-2, -1, -1):\n",
        "        if (arr[i] < arr[i + 1]):\n",
        "            break\n",
        "             \n",
        "    # Check if pivot is not found\n",
        "    if (i < 0):\n",
        "        arr.reverse()\n",
        " \n",
        "    # if pivot is found\n",
        "    else:\n",
        "        # Find for the successor of pivot in suffix\n",
        "        for j in range(n-1, i, -1):\n",
        "            if (arr[j] > arr[i]):\n",
        "                break\n",
        " \n",
        "        # Swap the pivot and successor\n",
        "        swapPositions(arr, i, j)\n",
        "         \n",
        "       \n",
        "        strt, end = i+1, len(arr)\n",
        " \n",
        "        # Third arg. of split with -1 performs reverse\n",
        "        arr[strt:end] = arr[strt:end][::-1]\n",
        " \n",
        "\n",
        "if __name__ == \"__main__\":\n",
        "    arr = [1, 2, 3]\n",
        "     \n",
        "    nextPermutation(arr)\n",
        "     \n",
        "    for i in arr:\n",
        "        print(i, end=\" \")\n"
      ],
      "metadata": {
        "colab": {
          "base_uri": "https://localhost:8080/"
        },
        "id": "nQ1_gHk3Jxfb",
        "outputId": "079658b8-075d-4ef7-f637-1a4595972f5d"
      },
      "execution_count": null,
      "outputs": [
        {
          "output_type": "stream",
          "name": "stdout",
          "text": [
            "1 3 2 "
          ]
        }
      ]
    },
    {
      "cell_type": "markdown",
      "source": [
        "Question 4\n",
        "Given a sorted array of distinct integers and a target value, return the index if the\n",
        "target is found. If not, return the index where it would be if it were inserted in\n",
        "order.\n",
        "\n",
        "You must write an algorithm with O(log n) runtime complexity.\n",
        "\n",
        "Example 1:\n",
        "Input: nums = [1,3,5,6], target = 5\n",
        "Output: 2"
      ],
      "metadata": {
        "id": "T6fkR2PHJxzY"
      }
    },
    {
      "cell_type": "code",
      "source": [
        "def find_index(arr, n, K):\n",
        "     \n",
        "    # Traverse the array\n",
        "    for i in range(n):\n",
        "         \n",
        "        if arr[i] == K:\n",
        "            return i\n",
        "        elif arr[i] > K:\n",
        "            return i\n",
        "             \n",
        "    return n\n",
        " \n",
        "arr = [1, 3, 5, 6]\n",
        "n = len(arr)\n",
        "K = 5\n",
        "print(find_index(arr, n, K))"
      ],
      "metadata": {
        "colab": {
          "base_uri": "https://localhost:8080/"
        },
        "id": "epEK43q3JyHO",
        "outputId": "388a5c26-d9da-447a-e266-c6c1645d5a3b"
      },
      "execution_count": null,
      "outputs": [
        {
          "output_type": "stream",
          "name": "stdout",
          "text": [
            "2\n"
          ]
        }
      ]
    },
    {
      "cell_type": "markdown",
      "source": [
        "<aside>\n",
        "💡 **Question 5**\n",
        "You are given a large integer represented as an integer array digits, where each\n",
        "digits[i] is the ith digit of the integer. The digits are ordered from most significant\n",
        "to least significant in left-to-right order. The large integer does not contain any\n",
        "leading 0's.\n",
        "\n",
        "Increment the large integer by one and return the resulting array of digits.\n",
        "\n",
        "**Example 1:**\n",
        "Input: digits = [1,2,3]\n",
        "Output: [1,2,4]\n",
        "\n",
        "**Explanation:** The array represents the integer 123.\n",
        "Incrementing by one gives 123 + 1 = 124.\n",
        "Thus, the result should be [1,2,4].\n",
        "\n",
        "</aside>"
      ],
      "metadata": {
        "id": "LD9zZtORVxVq"
      }
    },
    {
      "cell_type": "code",
      "source": [
        "def AddOne(digits):\n",
        "    \n",
        "    index = len(digits) - 1\n",
        "      \n",
        "    while (index >= 0 and digits[index] == 9):\n",
        "        digits[index] = 0\n",
        "        index -= 1\n",
        "          \n",
        "    # if index < 0 (if all digits were 9)\n",
        "    if (index < 0):\n",
        "        \n",
        "        # insert an one at the beginning of the vector\n",
        "        digits.insert(0, 1)\n",
        "          \n",
        "    else:\n",
        "        digits[index]+=1\n",
        "  \n",
        "  \n",
        "digits = [1, 2,3]\n",
        "  \n",
        "AddOne(digits)\n",
        "  \n",
        "for digit in digits:\n",
        "    print(digit, end =' ')"
      ],
      "metadata": {
        "colab": {
          "base_uri": "https://localhost:8080/"
        },
        "id": "xPDDAtaCVxp0",
        "outputId": "80b9361d-7609-41e5-9ece-a58824ccb73c"
      },
      "execution_count": null,
      "outputs": [
        {
          "output_type": "stream",
          "name": "stdout",
          "text": [
            "1 2 4 "
          ]
        }
      ]
    },
    {
      "cell_type": "markdown",
      "source": [
        "Question 6\n",
        "Given a non-empty array of integers nums, every element appears twice except\n",
        "for one. Find that single one.\n",
        "\n",
        "You must implement a solution with a linear runtime complexity and use only\n",
        "constant extra space.\n",
        "\n",
        "Example 1:\n",
        "Input: nums = [2,2,1]\n",
        "Output: 1"
      ],
      "metadata": {
        "id": "TibEHiwAVx9p"
      }
    },
    {
      "cell_type": "code",
      "source": [
        "# function to find the once \n",
        "# appearing element in array\n",
        "def findSingle( ar, n):\n",
        "      \n",
        "    res = ar[0]\n",
        "      \n",
        "    # Do XOR of all elements and return\n",
        "    for i in range(1,n):\n",
        "        res = res ^ ar[i]\n",
        "      \n",
        "    return res\n",
        "  \n",
        "# Driver code\n",
        "ar = [2, 3, 5, 4, 5, 3, 4]\n",
        "print(\"Element occurring once is\" , findSingle(ar, len(ar)))"
      ],
      "metadata": {
        "colab": {
          "base_uri": "https://localhost:8080/"
        },
        "id": "FZZw7um6VyV0",
        "outputId": "4a1e2452-3fee-49ff-f2b8-c15ad9b597ff"
      },
      "execution_count": null,
      "outputs": [
        {
          "output_type": "stream",
          "name": "stdout",
          "text": [
            "Element occurring once is 2\n"
          ]
        }
      ]
    },
    {
      "cell_type": "markdown",
      "source": [
        "Question 7\n",
        "You are given an inclusive range [lower, upper] and a sorted unique integer array\n",
        "nums, where all elements are within the inclusive range.\n",
        "\n",
        "A number x is considered missing if x is in the range [lower, upper] and x is not in\n",
        "nums.\n",
        "\n",
        "Return the shortest sorted list of ranges that exactly covers all the missing\n",
        "numbers. That is, no element of nums is included in any of the ranges, and each\n",
        "missing number is covered by one of the ranges.\n",
        "\n",
        "Example 1:\n",
        "Input: nums = [0,1,3,50,75], lower = 0, upper = 99\n",
        "Output: [[2,2],[4,49],[51,74],[76,99]]\n",
        "\n",
        "Explanation: The ranges are:\n",
        "[2,2]\n",
        "[4,49]\n",
        "[51,74]\n",
        "[76,99]"
      ],
      "metadata": {
        "id": "Moeu2i4sVymw"
      }
    },
    {
      "cell_type": "code",
      "source": [],
      "metadata": {
        "id": "_xIbiGYTVy26"
      },
      "execution_count": null,
      "outputs": []
    },
    {
      "cell_type": "markdown",
      "source": [
        "Question 8\n",
        "Given an array of meeting time intervals where intervals[i] = [starti, endi],\n",
        "determine if a person could attend all meetings.\n",
        "\n",
        "Example 1:\n",
        "Input: intervals = [[0,30],[5,10],[15,20]]\n",
        "Output: false"
      ],
      "metadata": {
        "id": "Sw_yr0WDV0Ru"
      }
    },
    {
      "cell_type": "code",
      "source": [
        "def canAttendMeetings(intervals):\n",
        "        \n",
        "    intervals.sort(key=lambda a: a.start)\n",
        "    for i in range(len(intervals)-1):\n",
        "        if intervals[i].end > intervals[i+1].start:\n",
        "            return False\n",
        "    return True"
      ],
      "metadata": {
        "id": "08BjVRqCV0hC"
      },
      "execution_count": null,
      "outputs": []
    },
    {
      "cell_type": "code",
      "source": [],
      "metadata": {
        "id": "qcqo-xyDbSKr"
      },
      "execution_count": null,
      "outputs": []
    }
  ]
}